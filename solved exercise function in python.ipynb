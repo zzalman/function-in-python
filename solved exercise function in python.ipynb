{
 "cells": [
  {
   "cell_type": "code",
   "execution_count": 1,
   "id": "d1f76126-c568-4356-8d07-b76feafef4ab",
   "metadata": {},
   "outputs": [
    {
     "name": "stdout",
     "output_type": "stream",
     "text": [
      " Hello Dear Salman, 2025-08-15 11:51:17.111202\n"
     ]
    }
   ],
   "source": [
    "# Simple Function:\n",
    "# Create a function named greet_with_time that takes a name as input and prints a greeting message along with the current time.\n",
    "from datetime import datetime\n",
    "\n",
    "def greet_with_name(name):\n",
    "    print(f\" Hello Dear {name.title()}, {datetime.now()}\")\n",
    "\n",
    "name = input(\"Please Enter Your Name: \") \n",
    "greet_with_name(name)"
   ]
  },
  {
   "cell_type": "code",
   "execution_count": null,
   "id": "9e8f5d37-6eeb-4903-ab68-5c1840a45842",
   "metadata": {},
   "outputs": [
    {
     "name": "stdout",
     "output_type": "stream",
     "text": [
      "Average: 15.666666666666666\n"
     ]
    }
   ],
   "source": [
    "# Function with Multiple Parameters:\n",
    "# Write a function called calculate_average that takes three numbers as input and returns their average.\n",
    "\n",
    "def calculate_average(num1, num2, num3):\n",
    "    avg = (num1 + num2 + num3) / 3\n",
    "    print(f\"Average: {avg}\")\n",
    "\n",
    "n1 = int(input(\"Enter a Number: \"))\n",
    "n2 = int(input(\"Enter a Number: \"))\n",
    "n3 = int(input(\"Enter a Number: \"))    \n",
    "calculate_average(n1, n2, n3)\n"
   ]
  },
  {
   "cell_type": "code",
   "execution_count": 11,
   "id": "3f9304af-9694-4793-bac5-2d3136f7d91f",
   "metadata": {},
   "outputs": [
    {
     "name": "stdout",
     "output_type": "stream",
     "text": [
      "Winter Sale: Flat 10% discount + more discounts on every item! Happy shopping!\n"
     ]
    },
    {
     "name": "stdout",
     "output_type": "stream",
     "text": [
      "Enter the price of the item:  5000\n",
      "Enter an additional discount percentage:  0\n"
     ]
    },
    {
     "name": "stdout",
     "output_type": "stream",
     "text": [
      "Original price: 5000\n",
      "After 10% permanent discount: 4500.0\n",
      "After an additional 0% custom discount: 4500.0 \n",
      " you have to pay now 4500.0\n"
     ]
    }
   ],
   "source": [
    "def calculate_discount(price, custom_discount, permanent_discount=10):\n",
    "    # Apply the permanent discount first\n",
    "    price_after_permanent = price - (price * permanent_discount / 100)\n",
    "    # Apply the custom discount on the remaining amount\n",
    "    price_after_custom = price_after_permanent - (price_after_permanent * custom_discount / 100)\n",
    "    print(f\"Original price: {price}\")\n",
    "    print(f\"After {permanent_discount}% permanent discount: {price_after_permanent}\")\n",
    "    print(f\"After an additional {custom_discount}% custom discount: {price_after_custom} \\n you have to pay now {price_after_custom}\")\n",
    "\n",
    "print(\"Winter Sale: Flat 10% discount + more discounts on every item! Happy shopping!\")\n",
    "price = int(input(\"Enter the price of the item: \"))\n",
    "custom_discount = int(input(\"Enter an additional discount percentage: \"))\n",
    "\n",
    "calculate_discount(price, custom_discount)\n"
   ]
  },
  {
   "cell_type": "code",
   "execution_count": 3,
   "id": "6b9f2317-ab91-41de-bc0f-bf00f0e66f23",
   "metadata": {},
   "outputs": [
    {
     "name": "stdout",
     "output_type": "stream",
     "text": [
      " salman, lahore, 12\n"
     ]
    }
   ],
   "source": [
    "# Keyword Arguments:\n",
    "# Create a function print_info that takes a name, age, and city as keyword arguments.\n",
    "def pirnt_info(name, age, city):\n",
    "    print(f\" {name}, {age}, {city}\")\n",
    "\n",
    "a = input(\"Enter name: \")    \n",
    "b = input(\"Enter age: \")\n",
    "c = input(\"Enter city: \")\n",
    "\n",
    "pirnt_info(name = a, city = c, age = b)"
   ]
  },
  {
   "cell_type": "code",
   "execution_count": null,
   "id": "0ecb9908-3b23-405f-87fc-6fb6f9c54c93",
   "metadata": {},
   "outputs": [
    {
     "name": "stdout",
     "output_type": "stream",
     "text": [
      "enter a series of numbers you want to check & for quit press -1  435\n",
      "enter a series of numbers you want to check & for quit press -1  67\n",
      "enter a series of numbers you want to check & for quit press -1  43345\n",
      "enter a series of numbers you want to check & for quit press -1  24\n",
      "enter a series of numbers you want to check & for quit press -1  63\n",
      "enter a series of numbers you want to check & for quit press -1  242\n",
      "enter a series of numbers you want to check & for quit press -1  -1\n"
     ]
    },
    {
     "name": "stdout",
     "output_type": "stream",
     "text": [
      "43345\n"
     ]
    }
   ],
   "source": [
    "#Variable-Length Arguments:\n",
    "#Write a function find_max that can take any number of arguments and returns the maximum value.\n",
    "def find_max():\n",
    "    c = []\n",
    "    while True:\n",
    "        m = int(input(\"Enter a series of numbers you want to check & for quit press -1 \"))\n",
    "        c.append(m)\n",
    "        if m == -1:\n",
    "            break \n",
    "    print(max(c))    \n",
    "find_max()        "
   ]
  },
  {
   "cell_type": "code",
   "execution_count": 19,
   "id": "6820c5d7-54ab-4193-8b92-fd88c477a574",
   "metadata": {},
   "outputs": [
    {
     "name": "stdout",
     "output_type": "stream",
     "text": [
      "Enter a number:  6\n"
     ]
    },
    {
     "name": "stdout",
     "output_type": "stream",
     "text": [
      "6! = 1 × 2 × 3 × 4 × 5 × 6 = 720\n"
     ]
    }
   ],
   "source": [
    "# Recursive Function:\n",
    "# Implement a function to calculate the factorial of a number and show the series of multiplications.\n",
    "def factorial_with_series(n):\n",
    "    result = 1\n",
    "    series = \"\"  # Start with an empty string for the series\n",
    "    for i in range(1, n + 1):  # Loop from 1 to n\n",
    "        result = result * i  # Calculate the factorial by multiplying each number\n",
    "        series = series + str(i)  # Add the current number to the series string\n",
    "        if i < n:  # If it's not the last number, add '×' for multiplication\n",
    "            series = series + \" × \"\n",
    "    print(f\"{n}! = {series} = {result}\")  # Print the result and the multiplication series\n",
    "\n",
    "# User input\n",
    "number = int(input(\"Enter a number: \"))  # Get the number from the user\n",
    "factorial_with_series(number)  # Call the function to calculate the factorial and display the series\n"
   ]
  },
  {
   "cell_type": "code",
   "execution_count": null,
   "id": "64d6a0ec-25f5-4e0a-8254-c0accef452de",
   "metadata": {},
   "outputs": [
    {
     "name": "stdout",
     "output_type": "stream",
     "text": [
      "enter a series of numbers you want to check & for quit press -1  565\n",
      "enter a series of numbers you want to check & for quit press -1  567\n",
      "enter a series of numbers you want to check & for quit press -1  345\n",
      "enter a series of numbers you want to check & for quit press -1  324\n",
      "enter a series of numbers you want to check & for quit press -1  -1\n"
     ]
    },
    {
     "name": "stdout",
     "output_type": "stream",
     "text": [
      "[565, 567, 345, 324]\n",
      "1801\n"
     ]
    }
   ],
   "source": [
    "#Function as an Argument:\n",
    "#Define a function apply_function that takes a function and a list of numbers as input. Apply the function to each number in the list and return a new list with the results.\n",
    "def first_function():\n",
    "    def sec_function():\n",
    "        print(sum(v))     \n",
    "    v = []\n",
    "    while True:\n",
    "         m = int(input(\"enter a series of numbers you want to check & for quit press -1 \"))\n",
    "         if m == -1:\n",
    "            break \n",
    "         else:\n",
    "            v.append(m)\n",
    "    print(v) \n",
    "    sec_function()    \n",
    "first_function()        "
   ]
  },
  {
   "cell_type": "code",
   "execution_count": 4,
   "id": "fa4e6d4b-fead-41f1-b78d-5b05a7ccd329",
   "metadata": {},
   "outputs": [
    {
     "name": "stdout",
     "output_type": "stream",
     "text": [
      "144\n"
     ]
    }
   ],
   "source": [
    "#Lambda Functions:\n",
    "#Create a lambda function to square a number.\n",
    "square = lambda x : x * x\n",
    "i = int(input(\"Enter Number: \"))\n",
    "print(square (i))"
   ]
  },
  {
   "cell_type": "code",
   "execution_count": null,
   "id": "6b5b1c53-9113-410b-a0b2-29dcff5c4a71",
   "metadata": {},
   "outputs": [
    {
     "name": "stdout",
     "output_type": "stream",
     "text": [
      "[2, 4, 6, 8, 10]\n",
      "[1, 4, 9, 16, 25]\n"
     ]
    }
   ],
   "source": [
    "#Higher-Order Functions:\n",
    "#Write a function apply_operation that takes a function and a list of numbers. Apply the function to each number and return a new list.\n",
    "def apply_operation(func, numbers):\n",
    "    return [func(num) for num in numbers]\n",
    "\n",
    "numbers = [1, 2, 3, 4, 5]\n",
    "print(apply_operation(lambda x: x * 2, numbers))  # Output: [2, 4, 6, 8, 10]\n",
    "print(apply_operation(lambda x: x ** 2, numbers))  # Output: [1, 4, 9, 16, 25]\n"
   ]
  },
  {
   "cell_type": "code",
   "execution_count": null,
   "id": "49233922-ee17-4498-893f-ec6f5aba0914",
   "metadata": {},
   "outputs": [],
   "source": []
  }
 ],
 "metadata": {
  "kernelspec": {
   "display_name": ".venv",
   "language": "python",
   "name": "python3"
  },
  "language_info": {
   "codemirror_mode": {
    "name": "ipython",
    "version": 3
   },
   "file_extension": ".py",
   "mimetype": "text/x-python",
   "name": "python",
   "nbconvert_exporter": "python",
   "pygments_lexer": "ipython3",
   "version": "3.13.1"
  }
 },
 "nbformat": 4,
 "nbformat_minor": 5
}
